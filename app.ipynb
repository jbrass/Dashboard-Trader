{
 "cells": [
  {
   "cell_type": "code",
   "execution_count": 2,
   "metadata": {},
   "outputs": [
    {
     "name": "stdout",
     "output_type": "stream",
     "text": [
      "Requirement already satisfied: lazypredict in c:\\users\\jmmar\\anaconda3\\envs\\obb\\lib\\site-packages (0.2.12)\n",
      "Requirement already satisfied: joblib in c:\\users\\jmmar\\anaconda3\\envs\\obb\\lib\\site-packages (from lazypredict) (1.2.0)\n",
      "Requirement already satisfied: lightgbm in c:\\users\\jmmar\\anaconda3\\envs\\obb\\lib\\site-packages (from lazypredict) (3.3.3)\n",
      "Requirement already satisfied: click in c:\\users\\jmmar\\anaconda3\\envs\\obb\\lib\\site-packages (from lazypredict) (8.1.3)\n",
      "Requirement already satisfied: scikit-learn in c:\\users\\jmmar\\anaconda3\\envs\\obb\\lib\\site-packages (from lazypredict) (1.1.2)\n",
      "Requirement already satisfied: xgboost in c:\\users\\jmmar\\anaconda3\\envs\\obb\\lib\\site-packages (from lazypredict) (1.7.2)\n",
      "Requirement already satisfied: tqdm in c:\\users\\jmmar\\anaconda3\\envs\\obb\\lib\\site-packages (from lazypredict) (4.64.1)\n",
      "Requirement already satisfied: pandas in c:\\users\\jmmar\\anaconda3\\envs\\obb\\lib\\site-packages (from lazypredict) (1.5.1)\n",
      "Requirement already satisfied: colorama in c:\\users\\jmmar\\anaconda3\\envs\\obb\\lib\\site-packages (from click->lazypredict) (0.4.6)\n",
      "Requirement already satisfied: wheel in c:\\users\\jmmar\\anaconda3\\envs\\obb\\lib\\site-packages (from lightgbm->lazypredict) (0.38.4)\n",
      "Requirement already satisfied: numpy in c:\\users\\jmmar\\anaconda3\\envs\\obb\\lib\\site-packages (from lightgbm->lazypredict) (1.23.4)\n",
      "Requirement already satisfied: scipy in c:\\users\\jmmar\\anaconda3\\envs\\obb\\lib\\site-packages (from lightgbm->lazypredict) (1.9.3)\n",
      "Requirement already satisfied: threadpoolctl>=2.0.0 in c:\\users\\jmmar\\anaconda3\\envs\\obb\\lib\\site-packages (from scikit-learn->lazypredict) (3.1.0)\n",
      "Requirement already satisfied: pytz>=2020.1 in c:\\users\\jmmar\\anaconda3\\envs\\obb\\lib\\site-packages (from pandas->lazypredict) (2022.5)\n",
      "Requirement already satisfied: python-dateutil>=2.8.1 in c:\\users\\jmmar\\anaconda3\\envs\\obb\\lib\\site-packages (from pandas->lazypredict) (2.8.2)\n",
      "Requirement already satisfied: six>=1.5 in c:\\users\\jmmar\\anaconda3\\envs\\obb\\lib\\site-packages (from python-dateutil>=2.8.1->pandas->lazypredict) (1.16.0)\n"
     ]
    }
   ],
   "source": [
    "!pip install lazypredict"
   ]
  },
  {
   "cell_type": "code",
   "execution_count": 4,
   "metadata": {},
   "outputs": [],
   "source": [
    "import lazypredict\n",
    "import numpy as np\n",
    "import seaborn as sns\n",
    "import matplotlib.pyplot as plt\n",
    "import pandas as pd\n",
    "from lazypredict.Supervised import LazyClassifier\n",
    "from sklearn.datasets import load_breast_cancer\n",
    "from sklearn.model_selection import train_test_split\n",
    "from lazypredict.Supervised import LazyRegressor\n",
    "from sklearn import datasets\n",
    "from sklearn.utils import shuffle\n",
    "import warnings\n",
    "from openbb_terminal.sdk import openbb"
   ]
  },
  {
   "cell_type": "code",
   "execution_count": 3,
   "metadata": {},
   "outputs": [
    {
     "ename": "NameError",
     "evalue": "name 'warnings' is not defined",
     "output_type": "error",
     "traceback": [
      "\u001b[1;31m---------------------------------------------------------------------------\u001b[0m",
      "\u001b[1;31mNameError\u001b[0m                                 Traceback (most recent call last)",
      "Cell \u001b[1;32mIn [3], line 1\u001b[0m\n\u001b[1;32m----> 1\u001b[0m warnings\u001b[39m.\u001b[39msimplefilter(\u001b[39m'\u001b[39m\u001b[39mignore\u001b[39m\u001b[39m'\u001b[39m)\n\u001b[0;32m      3\u001b[0m df \u001b[39m=\u001b[39m pd\u001b[39m.\u001b[39mread_csv(\u001b[39m'\u001b[39m\u001b[39m./Operativa/Diarios-ES.csv\u001b[39m\u001b[39m'\u001b[39m)\n\u001b[0;32m      5\u001b[0m X, y \u001b[39m=\u001b[39m shuffle(df[\u001b[39m'\u001b[39m\u001b[39mvix_close\u001b[39m\u001b[39m'\u001b[39m], df[\u001b[39m'\u001b[39m\u001b[39mclose\u001b[39m\u001b[39m'\u001b[39m], random_state\u001b[39m=\u001b[39m\u001b[39m13\u001b[39m)\n",
      "\u001b[1;31mNameError\u001b[0m: name 'warnings' is not defined"
     ]
    }
   ],
   "source": [
    "warnings.simplefilter('ignore')\n",
    "\n",
    "df = pd.read_csv('./Operativa/Diarios-ES.csv')\n",
    "\n",
    "X, y = shuffle(df['vix_close'], df['close'], random_state=13)\n",
    "X = pd.DataFrame(X.astype(np.float32))\n",
    "\n",
    "offset = int(X.shape[0] * 0.9)\n",
    "\n",
    "X_train, y_train = X[:offset], y[:offset]\n",
    "X_test, y_test = X[offset:], y[offset:]\n",
    "\n",
    "\n",
    "reg = LazyRegressor(verbose=0, ignore_warnings=False, custom_metric=None)\n",
    "models, predictions = reg.fit(X_train, X_test, y_train, y_test)\n",
    "\n",
    "print(models)"
   ]
  },
  {
   "cell_type": "code",
   "execution_count": 1,
   "metadata": {
    "tags": [
     "parameters"
    ]
   },
   "outputs": [
    {
     "ename": "NameError",
     "evalue": "name 'openbb' is not defined",
     "output_type": "error",
     "traceback": [
      "\u001b[1;31m---------------------------------------------------------------------------\u001b[0m",
      "\u001b[1;31mNameError\u001b[0m                                 Traceback (most recent call last)",
      "Cell \u001b[1;32mIn [1], line 1\u001b[0m\n\u001b[1;32m----> 1\u001b[0m openbb\u001b[39m.\u001b[39mcrypto\u001b[39m.\u001b[39mchart()\n",
      "\u001b[1;31mNameError\u001b[0m: name 'openbb' is not defined"
     ]
    }
   ],
   "source": [
    "openbb.crypto.chart()"
   ]
  }
 ],
 "metadata": {
  "kernelspec": {
   "display_name": "obb",
   "language": "python",
   "name": "python3"
  },
  "language_info": {
   "codemirror_mode": {
    "name": "ipython",
    "version": 3
   },
   "file_extension": ".py",
   "mimetype": "text/x-python",
   "name": "python",
   "nbconvert_exporter": "python",
   "pygments_lexer": "ipython3",
   "version": "3.9.15"
  },
  "orig_nbformat": 4,
  "vscode": {
   "interpreter": {
    "hash": "bdf0855b67cbb9b7b1f8f28e4b64d4256bd16018509ed81619d9b7e9d2273bb9"
   }
  }
 },
 "nbformat": 4,
 "nbformat_minor": 2
}
